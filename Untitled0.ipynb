{
  "nbformat": 4,
  "nbformat_minor": 0,
  "metadata": {
    "colab": {
      "name": "Untitled0.ipynb",
      "provenance": [],
      "authorship_tag": "ABX9TyOwPmFDF6IthVTcj4PvVHEG",
      "include_colab_link": true
    },
    "kernelspec": {
      "name": "python3",
      "display_name": "Python 3"
    }
  },
  "cells": [
    {
      "cell_type": "markdown",
      "metadata": {
        "id": "view-in-github",
        "colab_type": "text"
      },
      "source": [
        "<a href=\"https://colab.research.google.com/github/JuanjoVallejo/RepoTareas/blob/main/Untitled0.ipynb\" target=\"_parent\"><img src=\"https://colab.research.google.com/assets/colab-badge.svg\" alt=\"Open In Colab\"/></a>"
      ]
    },
    {
      "cell_type": "code",
      "metadata": {
        "colab": {
          "base_uri": "https://localhost:8080/"
        },
        "id": "RNhXeTDtrffQ",
        "outputId": "cf31c487-cf33-48b0-bcc0-8abccebab2af"
      },
      "source": [
        "\r\n",
        "N_1 = input (\"¿Cual es tu primer nombre? \" )\r\n",
        "N_2 = input (\"¿Cual es tu segundo nombre? \" )\r\n",
        "A_1 = input (\"¿Cual es tu primer apellido? \" )\r\n",
        "A_2 = input (\"¿Cual es tu segundo apellido? \" )\r\n",
        "print ( \"Mi nombre completo es \"+ N_1 , N_2 , A_1 , A_2) \r\n"
      ],
      "execution_count": null,
      "outputs": [
        {
          "output_type": "stream",
          "text": [
            "¿Cual es tu primer nombre? Juan\n",
            "¿Cual es tu segundo nombre? José\n",
            "¿Cual es tu primer apellido? Vallejo\n",
            "¿Cual es tu segundo apellido? Rodríguez\n",
            "Mi nombre completo es Juan José Vallejo Rodríguez\n"
          ],
          "name": "stdout"
        }
      ]
    },
    {
      "cell_type": "code",
      "metadata": {
        "id": "25YssFCFNv_7"
      },
      "source": [
        ""
      ],
      "execution_count": null,
      "outputs": []
    }
  ]
}